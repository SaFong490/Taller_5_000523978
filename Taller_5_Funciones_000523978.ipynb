{
  "cells": [
    {
      "cell_type": "markdown",
      "metadata": {
        "id": "view-in-github",
        "colab_type": "text"
      },
      "source": [
        "<a href=\"https://colab.research.google.com/github/SaFong490/Taller_5_000523978/blob/main/Taller_5_Funciones_000523978.ipynb\" target=\"_parent\"><img src=\"https://colab.research.google.com/assets/colab-badge.svg\" alt=\"Open In Colab\"/></a>"
      ]
    },
    {
      "cell_type": "markdown",
      "id": "66beb5a1",
      "metadata": {
        "id": "66beb5a1"
      },
      "source": [
        "# Fundamentos de Programación para Ingeniería Mecánica\n",
        "## UPB Montería - 202310\n",
        "### Taller 5: Funciones y Estructuras de Datos\n",
        "- Docente: Miguel Ortiz (miguel.ortizp@upb.edu.co)"
      ]
    },
    {
      "cell_type": "markdown",
      "id": "b4381f55",
      "metadata": {
        "id": "b4381f55"
      },
      "source": [
        "Datos del Estudiante:\n",
        "- Nombre: Samuel David Fong Ramos\n",
        "- ID: 000523978\n",
        "- email: samuel.fong@upb.edu.co"
      ]
    },
    {
      "cell_type": "markdown",
      "id": "433f35a0",
      "metadata": {
        "id": "433f35a0"
      },
      "source": [
        "> Resuelva los siguientes ejercicios utilizando **Funciones, Listas y Diccionarios**."
      ]
    },
    {
      "cell_type": "markdown",
      "id": "aead929b",
      "metadata": {
        "id": "aead929b"
      },
      "source": [
        "### Problema 1: Discurso Político (150xp)\n",
        "\n",
        "Diseñe el algoritmo y escriba un código en lenguaje de programación Python para generar discursos políticos aleatorios, teniendo en cuenta la siguiente imagen:\n",
        "\n",
        "![componentes de un discurso](discurso.png)\n",
        "\n",
        "Para ello, debe solicitar al usuario el nombre del candidato, un presupuesto general, y tres (3) porcentajes que representen los dineros que destinará a diferentes sectores seleccionados de forma aleatoria (lista de beneficio populista).\n",
        "\n",
        "Crea una función sin parámetros que retorne un string con el mensaje político. Dentro de la función deben aparecer los inputs para solicitar información al usuario. Guarda el mensaje creado por la función en una variable llamada `mensaje_politico` e imprime su valor en consola. \n",
        "\n",
        "**Ejemplo:**\n",
        "\n",
        "```\n",
        ">>> Entradas:\n",
        "Ingrese nombre del candidato: Chocolove McDonell\n",
        "Ingrese presupuesto (en millones de pesos): 1250\n",
        "Ingrese Porcentaje 1: 25\n",
        "Ingrese Porcentaje 2: 30\n",
        "Ingrese Porcentaje 3: 45\n",
        ">>> Salidas:\n",
        "Estimados copartidarios. \n",
        "Mi nombre es Chocolove McDonell y hoy vengo a decirles que, con su ayuda combatiré el desplazamiento y promoveré la educación de cada colombiano. Y es por eso que hoy he venido a proponerles invertir $1250.0 millones de pesos de la siguiente manera: \n",
        " - $312.5 millones de pesos en el empleo \n",
        " - $375.0 millones de pesos en la educación \n",
        " - $562.5 millones de pesos en la salud \n",
        "```\n",
        "\n",
        "**Nota:** para seleccionar un elemento aleatorio de una lista puede utilizar la función `choice()` de la librería random:\n",
        "\n",
        "```python\n",
        "import random\n",
        "random.choice([1, 2, 3])\n",
        "```\n",
        "\n",
        "**Recomendación:** cree las variables sin acento (tildes) y en minúsculas. "
      ]
    },
    {
      "cell_type": "code",
      "execution_count": 42,
      "id": "a78382aa",
      "metadata": {
        "colab": {
          "base_uri": "https://localhost:8080/"
        },
        "id": "a78382aa",
        "outputId": "f7934b04-afec-4854-c0e9-41eaa679ca32"
      },
      "outputs": [
        {
          "output_type": "stream",
          "name": "stdout",
          "text": [
            "Por favor ingrese su nombre: Samuelito Fong\n",
            "Ingrese su presupuesto en millones de pesos: 4342.67\n",
            "Ingrese en porcentaje 1: 35\n",
            "Ingrese en porcentaje 2: 55\n",
            "Ingrese en porcentaje 3: 10\n",
            "Respetados amigos  .\n",
            "Mi nombre es Samuelito Fong y en este bello día vengo a informarles que con todo el apoyo de ustedes, \n",
            "Lucharé contra la inflación y garantizaré la igualdad del país  , y por tal motivo hoy les propongo invertir 4342.67 millones de pesos de esta manera:\n",
            "-  151993.45 millones de pesos en  la salud  .\n",
            "-  238846.85 millones de pesos en  la paz  .\n",
            "-  43426.7 millones de pesos en  la seguridad  .\n"
          ]
        }
      ],
      "source": [
        "#En primer lugar se le solicita al usuario ingresar los datos necesarios:\n",
        "nombre = input(\"Por favor ingrese su nombre: \")\n",
        "presupuesto = float(input(\"Ingrese su presupuesto en millones de pesos: \"))\n",
        "porcentaje_1 = float(input(\"Ingrese en porcentaje 1: \"))\n",
        "porcentaje_2 = float(input(\"Ingrese en porcentaje 2: \"))\n",
        "porcentaje_3 = float(input(\"Ingrese en porcentaje 3: \"))\n",
        "\n",
        "#Se obtiene el valor que representan estos porcentajes con respecto al presupuesto, estos se utilizarán más adelante:\n",
        "percent_1 = porcentaje_1 * presupuesto\n",
        "percent_2 = porcentaje_2 * presupuesto\n",
        "percent_3 = porcentaje_3 * presupuesto\n",
        "\n",
        "#Luego se colocan las listas de las palabras a utilizar en el discurso:\n",
        "titulos = [\"Queridos \", \"Apreciados \", \"Distinguidos \", \"Honorables \", \"Estimados \", \"Respetados \"]\n",
        "publico = [\"compatriotas \", \"copartidarios \", \"amigos \", \"coterráneos \", \"conciudadanos \", \"electores \"]\n",
        "compromiso = [\"Voy a derrotar \", \"Venceré \", \"Eliminaré \", \"Acabaré \",\"Lucharé contra \", \"Combatiré \"]\n",
        "ilusion = [\"la violencia y \", \"la delincuencia y \", \"la corrupción y \", \"la inflación y \", \"la pobreza y \", \"el desplazamiento y \"]\n",
        "promesa = [\"trabajaré por \", \"garantizaré \", \"protegeré \", \"velaré por \", \"promoveré \", \"defenderé \"]\n",
        "beneficio = [\"la educación \", \"el empleo \", \"la seguridad \", \"la paz \", \"la igualdad \", \"la salud \"]\n",
        "cant_votos = [\"del país \", \"de la ciudad \", \"de la comunidad \", \"de la población \", \"para toda la gente \", \"de cada colombiano \"]\n",
        "\n",
        "#Se realiza el comando con estructuras repetitivas para escoger aleatoriamente el título y el público a quien se dirige:\n",
        "eleccion = {1: titulos, 2:publico}\n",
        "texto = \"\"\n",
        "\n",
        "import random \n",
        "lineas = 1\n",
        "for i in range(lineas):\n",
        "    for values in eleccion.values():\n",
        "        texto += random.choice(values)\n",
        "    \n",
        "\n",
        "print(texto, \".\")\n",
        "#Se imprime el nombre del usuario:\n",
        "\n",
        "print(\"Mi nombre es\", nombre, \"y en este bello día vengo a informarles que con todo el apoyo de ustedes, \")\n",
        "\n",
        "\n",
        "#Así mismo se realiza con las demás listas para que se seleccionen los strings de forma aleatoria:\n",
        "eleccion_2 = {3: compromiso, 4:ilusion, 5:promesa, 6:beneficio, 7:cant_votos}\n",
        "texto_2 = \"\"\n",
        "\n",
        "import random \n",
        "lineas = 1\n",
        "for i in range(lineas):\n",
        "    for values in eleccion_2.values():\n",
        "        texto_2 += random.choice(values)\n",
        "print(texto_2, \", y por tal motivo hoy les propongo invertir\", presupuesto, \"millones de pesos de esta manera:\")\n",
        "\n",
        "#Se vuelve a utilizar el comando para seleccionar un beneficio con respecto a cada porcentaje: \n",
        "\n",
        "#Para el porcentaje 1:\n",
        "eleccion_3 = {8:beneficio}\n",
        "texto_3 = \"\"\n",
        "\n",
        "import random \n",
        "lineas = 1\n",
        "for i in range(lineas):\n",
        "    for values in eleccion_3.values():\n",
        "        texto_3 += random.choice(values)\n",
        "print(\"- \", percent_1, \"millones de pesos en \", texto_3, \".\")\n",
        "\n",
        "#Para el porcentaje 2:\n",
        "eleccion_4 = {8:beneficio}\n",
        "texto_4 = \"\"\n",
        "\n",
        "import random \n",
        "lineas = 1\n",
        "for i in range(lineas):\n",
        "    for values in eleccion_4.values():\n",
        "        texto_4 += random.choice(values)\n",
        "print(\"- \", percent_2, \"millones de pesos en \", texto_4, \".\")\n",
        "\n",
        "#Para el porcentaje 3:\n",
        "eleccion_5 = {8:beneficio}\n",
        "texto_5 = \"\"\n",
        "\n",
        "import random \n",
        "lineas = 1\n",
        "for i in range(lineas):\n",
        "    for values in eleccion_5.values():\n",
        "        texto_5 += random.choice(values)\n",
        "print(\"- \", percent_3, \"millones de pesos en \", texto_5, \".\")\n",
        "\n",
        "#De este modo al correr el código, se imprimirá en pantalla lo solicitado en el ejercicio."
      ]
    }
  ],
  "metadata": {
    "kernelspec": {
      "display_name": "Python 3 (ipykernel)",
      "language": "python",
      "name": "python3"
    },
    "language_info": {
      "codemirror_mode": {
        "name": "ipython",
        "version": 3
      },
      "file_extension": ".py",
      "mimetype": "text/x-python",
      "name": "python",
      "nbconvert_exporter": "python",
      "pygments_lexer": "ipython3",
      "version": "3.10.6"
    },
    "colab": {
      "provenance": [],
      "include_colab_link": true
    }
  },
  "nbformat": 4,
  "nbformat_minor": 5
}